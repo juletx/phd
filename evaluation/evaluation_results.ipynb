{
 "cells": [
  {
   "attachments": {},
   "cell_type": "markdown",
   "metadata": {},
   "source": [
    "# BigScience Evaluation Results"
   ]
  },
  {
   "cell_type": "code",
   "execution_count": null,
   "metadata": {},
   "outputs": [],
   "source": [
    "from datasets import load_dataset\n",
    "\n",
    "model_names = [\n",
    "    \"mgpt\",\n",
    "    \"xglm-7b5\",\n",
    "    \"bloom-560m\",\n",
    "    \"bloom-1b1\",\n",
    "    \"bloom-1b7\",\n",
    "    \"bloom-3b\",\n",
    "    \"bloom-7b1\",\n",
    "    \"bloom\",\n",
    "    \"bloomz-560m\",\n",
    "    \"bloomz-1b1\",\n",
    "    \"bloomz-1b7\",\n",
    "    \"bloomz-3b\",\n",
    "    \"bloomz-7b1\",\n",
    "    \"bloomz-7b1-mt\",\n",
    "    \"bloomz-7b1-p3\",\n",
    "    \"bloomz\",\n",
    "    \"bloomz-mt\",\n",
    "    \"bloomz-p3\",\n",
    "]\n",
    "\n",
    "evaluation_results = {}\n",
    "for model_name in model_names:\n",
    "    evaluation_results[model_name] = load_dataset(\"bigscience/evaluation-results\", model_name)\n"
   ]
  }
 ],
 "metadata": {
  "kernelspec": {
   "display_name": "venv",
   "language": "python",
   "name": "python3"
  },
  "language_info": {
   "codemirror_mode": {
    "name": "ipython",
    "version": 3
   },
   "file_extension": ".py",
   "mimetype": "text/x-python",
   "name": "python",
   "nbconvert_exporter": "python",
   "pygments_lexer": "ipython3",
   "version": "3.9.7"
  },
  "orig_nbformat": 4,
  "vscode": {
   "interpreter": {
    "hash": "c3522fa7b78ce528dfb723fb1e95fc8cf23ccc4d554ed6a43fc852f3c61fcbf9"
   }
  }
 },
 "nbformat": 4,
 "nbformat_minor": 2
}
